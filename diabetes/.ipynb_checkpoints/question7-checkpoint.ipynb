{
 "cells": [
  {
   "cell_type": "code",
   "execution_count": 1,
   "id": "f7f5f5fe",
   "metadata": {},
   "outputs": [],
   "source": [
    "from pink import hw5\n",
    "from pink import clean \n",
    "from pink import estimate"
   ]
  },
  {
   "cell_type": "code",
   "execution_count": 2,
   "id": "cd25a7c1",
   "metadata": {},
   "outputs": [],
   "source": [
    "# a. Load the data.\n",
    "dataset = hw5.read_data(\"sample_diabetes_mellitus_data.csv\")"
   ]
  },
  {
   "cell_type": "code",
   "execution_count": 3,
   "id": "3a23dc70",
   "metadata": {},
   "outputs": [],
   "source": [
    "# b. Split the data between train and test.\n",
    "trainset, testset = clean.split(dataset, 0.1)"
   ]
  },
  {
   "cell_type": "code",
   "execution_count": 4,
   "id": "6870cf95",
   "metadata": {},
   "outputs": [],
   "source": [
    "# c. Remove those rows that contain NaN values in the columns: age, gender, ethnicity.\n",
    "trainset = clean.drop_nas_in_cols(trainset, ['age', 'gender', 'ethnicity'])"
   ]
  },
  {
   "cell_type": "code",
   "execution_count": 5,
   "id": "a70a73a6",
   "metadata": {
    "scrolled": true
   },
   "outputs": [],
   "source": [
    "# d. Fill NaN with the mean value of the column in the columns: height, weight.\n",
    "trainset = clean.impute_mean_in_cols(trainset, ['height','weight'])"
   ]
  },
  {
   "cell_type": "code",
   "execution_count": 6,
   "id": "faa358b8",
   "metadata": {},
   "outputs": [],
   "source": [
    "# e. Generate dummies for ethnicity column (One hot encoding)\n",
    "trainset = clean.gen_dummies_to_cols(trainset, ['ethnicity'])"
   ]
  },
  {
   "cell_type": "code",
   "execution_count": 7,
   "id": "1218dcfc",
   "metadata": {},
   "outputs": [],
   "source": [
    "# f. Create a binary variable for gender M/F\n",
    "trainset = clean.gen_binary_to_cols(trainset, ['gender'])"
   ]
  },
  {
   "cell_type": "code",
   "execution_count": 8,
   "id": "ab702602",
   "metadata": {},
   "outputs": [],
   "source": [
    "# g. Train a model (for instance LogisticRegression or RandomForestClassifier from sklearn) in the train data.\n",
    "# h. Predict the targets for both the train and test sets and add the prediction as a new column.\n",
    "testset = clean.drop_nas_in_cols(testset, ['age', 'gender', 'ethnicity'])\n",
    "testset = clean.impute_mean_in_cols(testset, ['height','weight'])\n",
    "testset = clean.gen_dummies_to_cols(testset, ['ethnicity'])\n",
    "testset = clean.gen_binary_to_cols(testset, ['gender'])\n",
    "\n",
    "target = ['diabetes_mellitus']\n",
    "features = ['age', 'height', 'weight', 'aids', 'cirrhosis', 'hepatic_failure',\n",
    "            'immunosuppression', 'leukemia', 'lymphoma', 'solid_tumor_with_metastasis']\n",
    "\n",
    "trainset, testset = estimate.logit(target, features, trainset, testset)"
   ]
  },
  {
   "cell_type": "code",
   "execution_count": 9,
   "id": "b8149b7e",
   "metadata": {},
   "outputs": [
    {
     "data": {
      "text/plain": [
       "0.6673697160405582"
      ]
     },
     "execution_count": 9,
     "metadata": {},
     "output_type": "execute_result"
    }
   ],
   "source": [
    "# i. Compute the train and test roc_auc metric using roc_auc_score from sklearn.\n",
    "estimate.auc_score(target, 'prob_hat', trainset)"
   ]
  },
  {
   "cell_type": "code",
   "execution_count": 10,
   "id": "a19cbace",
   "metadata": {},
   "outputs": [
    {
     "data": {
      "text/plain": [
       "0.6992569188461764"
      ]
     },
     "execution_count": 10,
     "metadata": {},
     "output_type": "execute_result"
    }
   ],
   "source": [
    "estimate.auc_score(target, 'prob_hat', testset)"
   ]
  }
 ],
 "metadata": {
  "kernelspec": {
   "display_name": "Python 3",
   "language": "python",
   "name": "python3"
  },
  "language_info": {
   "codemirror_mode": {
    "name": "ipython",
    "version": 3
   },
   "file_extension": ".py",
   "mimetype": "text/x-python",
   "name": "python",
   "nbconvert_exporter": "python",
   "pygments_lexer": "ipython3",
   "version": "3.8.8"
  },
  "toc": {
   "base_numbering": 1,
   "nav_menu": {},
   "number_sections": true,
   "sideBar": true,
   "skip_h1_title": false,
   "title_cell": "Table of Contents",
   "title_sidebar": "Contents",
   "toc_cell": false,
   "toc_position": {},
   "toc_section_display": true,
   "toc_window_display": false
  }
 },
 "nbformat": 4,
 "nbformat_minor": 5
}
