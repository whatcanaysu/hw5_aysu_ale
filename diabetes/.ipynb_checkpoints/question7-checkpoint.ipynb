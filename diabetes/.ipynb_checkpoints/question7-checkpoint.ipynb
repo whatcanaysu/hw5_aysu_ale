{
 "cells": [
  {
   "cell_type": "code",
   "execution_count": 3,
   "id": "f7f5f5fe",
   "metadata": {},
   "outputs": [
    {
     "name": "stdout",
     "output_type": "stream",
     "text": [
      "Some keys are missing\n",
      "Some keys are missing\n",
      "John is 34 years old\n",
      "John is 34 years old\n",
      "Error: File does not appear to exist.\n",
      "0\n"
     ]
    }
   ],
   "source": [
    "from pink import hw5\n",
    "# from pink import clean \n",
    "# from pink import estimate"
   ]
  },
  {
   "cell_type": "code",
   "execution_count": 4,
   "id": "d01d0b8d",
   "metadata": {},
   "outputs": [
    {
     "name": "stdout",
     "output_type": "stream",
     "text": [
      "stop\n"
     ]
    }
   ],
   "source": [
    "hw5.car_at_light(\"red\")"
   ]
  },
  {
   "cell_type": "code",
   "execution_count": 8,
   "id": "cd25a7c1",
   "metadata": {},
   "outputs": [
    {
     "name": "stdout",
     "output_type": "stream",
     "text": [
      "1\n"
     ]
    }
   ],
   "source": [
    "dataset = hw5.read_data(\"sample_diabetes_mellitus_data.csv\")\n",
    "print(dataset)"
   ]
  },
  {
   "cell_type": "code",
   "execution_count": 9,
   "id": "3a23dc70",
   "metadata": {},
   "outputs": [],
   "source": [
    "# clean.split"
   ]
  },
  {
   "cell_type": "code",
   "execution_count": null,
   "id": "6870cf95",
   "metadata": {},
   "outputs": [],
   "source": [
    "# clean.drop_nas_in_column"
   ]
  },
  {
   "cell_type": "code",
   "execution_count": null,
   "id": "a70a73a6",
   "metadata": {},
   "outputs": [],
   "source": [
    "# clean.impute_mean"
   ]
  },
  {
   "cell_type": "code",
   "execution_count": null,
   "id": "faa358b8",
   "metadata": {},
   "outputs": [],
   "source": [
    "# clean.gen_dummies"
   ]
  },
  {
   "cell_type": "code",
   "execution_count": null,
   "id": "1218dcfc",
   "metadata": {},
   "outputs": [],
   "source": [
    "# clean.gen_binary"
   ]
  },
  {
   "cell_type": "code",
   "execution_count": null,
   "id": "ab702602",
   "metadata": {},
   "outputs": [],
   "source": [
    "# estimate.train_model"
   ]
  },
  {
   "cell_type": "code",
   "execution_count": null,
   "id": "7cb70937",
   "metadata": {},
   "outputs": [],
   "source": [
    "# estimate.predict_prob"
   ]
  },
  {
   "cell_type": "code",
   "execution_count": null,
   "id": "b8149b7e",
   "metadata": {},
   "outputs": [],
   "source": [
    "# estimate.evaluate_fit"
   ]
  }
 ],
 "metadata": {
  "kernelspec": {
   "display_name": "Python 3",
   "language": "python",
   "name": "python3"
  },
  "language_info": {
   "codemirror_mode": {
    "name": "ipython",
    "version": 3
   },
   "file_extension": ".py",
   "mimetype": "text/x-python",
   "name": "python",
   "nbconvert_exporter": "python",
   "pygments_lexer": "ipython3",
   "version": "3.8.8"
  },
  "toc": {
   "base_numbering": 1,
   "nav_menu": {},
   "number_sections": true,
   "sideBar": true,
   "skip_h1_title": false,
   "title_cell": "Table of Contents",
   "title_sidebar": "Contents",
   "toc_cell": false,
   "toc_position": {},
   "toc_section_display": true,
   "toc_window_display": false
  }
 },
 "nbformat": 4,
 "nbformat_minor": 5
}
